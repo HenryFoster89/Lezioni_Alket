{
 "cells": [
  {
   "cell_type": "code",
   "execution_count": 2,
   "id": "17418e73",
   "metadata": {},
   "outputs": [],
   "source": [
    "import pandas as pd\n"
   ]
  },
  {
   "cell_type": "code",
   "execution_count": 5,
   "id": "d7da32ce",
   "metadata": {},
   "outputs": [],
   "source": [
    "covid = pd.read_csv(r\"C:\\Users\\tappe\\Desktop\\jup\\Prova\\Input\\covid-variants.csv\")"
   ]
  },
  {
   "cell_type": "code",
   "execution_count": 9,
   "id": "18b737ca",
   "metadata": {},
   "outputs": [
    {
     "data": {
      "text/plain": [
       "0         2020-07-06\n",
       "1         2020-07-06\n",
       "2         2020-07-06\n",
       "3         2020-07-06\n",
       "4         2020-07-06\n",
       "             ...    \n",
       "100411    2021-11-01\n",
       "100412    2021-11-01\n",
       "100413    2021-11-01\n",
       "100414    2021-11-01\n",
       "100415    2021-11-01\n",
       "Name: date, Length: 100416, dtype: object"
      ]
     },
     "execution_count": 9,
     "metadata": {},
     "output_type": "execute_result"
    }
   ],
   "source": [
    "covid.date"
   ]
  },
  {
   "cell_type": "code",
   "execution_count": null,
   "id": "577e5f9a",
   "metadata": {},
   "outputs": [],
   "source": []
  }
 ],
 "metadata": {
  "kernelspec": {
   "display_name": "Python 3 (ipykernel)",
   "language": "python",
   "name": "python3"
  },
  "language_info": {
   "codemirror_mode": {
    "name": "ipython",
    "version": 3
   },
   "file_extension": ".py",
   "mimetype": "text/x-python",
   "name": "python",
   "nbconvert_exporter": "python",
   "pygments_lexer": "ipython3",
   "version": "3.9.7"
  }
 },
 "nbformat": 4,
 "nbformat_minor": 5
}
