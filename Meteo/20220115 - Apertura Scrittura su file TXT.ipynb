{
 "cells": [
  {
   "cell_type": "code",
   "execution_count": 3,
   "id": "3dfc2046",
   "metadata": {},
   "outputs": [],
   "source": [
    "import pandas as pd\n",
    "import os\n",
    "import matplotlib.pyplot as plt #Per utilizzare l'interfaccia pyplot (è una convenzone standard)"
   ]
  },
  {
   "cell_type": "code",
   "execution_count": 9,
   "id": "1a88802d",
   "metadata": {},
   "outputs": [],
   "source": [
    "meteo_20 = pd.read_csv(\"Input/Roma-2019-Dicembre.csv\")"
   ]
  },
  {
   "cell_type": "code",
   "execution_count": 11,
   "id": "6b5bcdf8",
   "metadata": {},
   "outputs": [
    {
     "data": {
      "text/plain": [
       "'C:\\\\Users\\\\tappe\\\\Desktop\\\\jup\\\\Meteo'"
      ]
     },
     "execution_count": 11,
     "metadata": {},
     "output_type": "execute_result"
    }
   ],
   "source": [
    "os.getcwd() #Current Working Directory"
   ]
  },
  {
   "cell_type": "code",
   "execution_count": 16,
   "id": "1cd65f39",
   "metadata": {},
   "outputs": [
    {
     "name": "stdout",
     "output_type": "stream",
     "text": [
      "file di esempio per aprire txt in pandas\n"
     ]
    }
   ],
   "source": [
    "#Incluso in installazione Python \n",
    "with open (\"Input/prova.txt\", \"r\") as file: #Context manager: dice  a python che sta provando ad aprire un file (è una gestione del contesto)\n",
    "    testo = file.read() #Legge il file: file è una variabile che abbiamo dichiarato nella riga superiore\n",
    "    print(testo)"
   ]
  },
  {
   "cell_type": "code",
   "execution_count": 18,
   "id": "35364494",
   "metadata": {},
   "outputs": [],
   "source": [
    "with open (\"Input/prova2.txt\", \"w\") as file: #Context manager: dice  a python che sta provando ad aprire un file (è una gestione del contesto)\n",
    "    file.write(\"Prima scrittura su txt\")     \n",
    "    "
   ]
  },
  {
   "cell_type": "code",
   "execution_count": null,
   "id": "c7b7b773",
   "metadata": {},
   "outputs": [],
   "source": []
  }
 ],
 "metadata": {
  "kernelspec": {
   "display_name": "Python 3 (ipykernel)",
   "language": "python",
   "name": "python3"
  },
  "language_info": {
   "codemirror_mode": {
    "name": "ipython",
    "version": 3
   },
   "file_extension": ".py",
   "mimetype": "text/x-python",
   "name": "python",
   "nbconvert_exporter": "python",
   "pygments_lexer": "ipython3",
   "version": "3.9.7"
  }
 },
 "nbformat": 4,
 "nbformat_minor": 5
}
